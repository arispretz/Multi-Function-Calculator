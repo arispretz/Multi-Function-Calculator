Make your own functions
# Write your code here

import math
import sympy
from sympy import symbols
from sympy.solvers import solve
from sympy import Eq
from sympy.abc import x

# Define a function
def adding():
    a = float(input("Enter a number: \n"))
    b = float(input("Enter another number: \n"))
    sum = a + b
    print("The result is ", sum)

# Call the function
adding()


# Define a function
def subtracting():
    a = float(input("Enter a number: \n"))
    b = float(input("Enter another number: \n"))
    sub = a - b
    print("The result is ", sub)

# Call the function
subtracting()


# Define a function
def multiplying():
    a = float(input("Enter a number: \n"))
    b = float(input("Enter another number: \n"))
    mult = a * b
    print("The result is ", mult)

# Call the function
multiplying()


# Define a function
def dividing():
    a = float(input("Enter a number: \n"))
    b = float(input("Enter another number: \n"))
    div = a / b
    print("The result is ", div)

# Call the function
dividing()


def detect_prime_numbers():
    number = int(input("Enter a positive integer: "))

    prime_or_comp = "prime"

    for test_number in range(2,number):

        if number % test_number == 0:
            prime_or_comp = "composite"
    print(prime_or_comp)

detect_prime_numbers()


def prime_factors_number():
    number = int(input('Enter an integer: '))

    for test_factor in range(1, number+1):
        if number % test_factor == 0:
            print(test_factor)

prime_factors_number()


def solve_for_x():

    x = symbols('x')

    eq = input('Enter equation: 0 = ')

    solution = solve(eq,x)
    for s in solution:
        print("x = ", s)

    sympy.factor(eq)

solve_for_x()


def simplify_square_root():

    n = int(input('Without the radical, enter a square root to factor: '))

    upper_limit = math.floor(math.sqrt(n)) + 1
    max_factor = 1
    other_factor = 1
    square_root = 1

    for maybe_factor in range(1, upper_limit):
        if n % (maybe_factor**2) == 0:
            max_factor = maybe_factor**2

# Divide out the greatest square factor
    other_factor = n/max_factor

# Output:
    square_root = int(math.sqrt(max_factor))
    other_factor = int(other_factor)
    output = square_root*sympy.sqrt(other_factor)
    print("The result is ", output)

simplify_square_root()


def proportions():
    # Put a zero in for the unknown value
    n1 = int(input('Enter an integer as first numerator: '))
    d1 = int(input('Enter an integer as first denominator: '))
    n2 = int(input('Enter an integer as second numerator: '))
    d2 = int(input('Enter an integer as second denominator: '))

    if n2==0:
        answer = d2 * n1 / d1
        print("n2 = ", answer)

    if d2==0:
        answer = n2 * d1 / n1
        print("d2 = ", answer)

    if n1==0:
        answer = d1 * n2 / d2
        print("n1 = ", answer)

    if d1==0:
        answer = n1 * d2 / n2
        print("d13 = ", answer)

proportions()

Create a menu
# Write your code here
def menu():
    print('Options:')
    print('1. Adding')
    print('2. Subtracting')
    print('3. Multiplying')
    print('4. Dividing')
    print('5. Detect prime numbers')
    print('6. Prime factors number')
    print('7. Solve for x')
    print('8. Simplify square root')
    print('9. Decimal fraction percent')
    print('10. Fraction decimal percent')
    print('11. Percent decimal fraction')
    print('12. Proportions')
    option = int(input('Please choose an option: '))

menu()

Multi-Function-Calculator
# Write your code here
import math
import sympy
from sympy import symbols
from sympy.solvers import solve
from sympy import Eq
from sympy.abc import x
from fractions import Fraction

# Define a function
def adding():
    a = float(input("Enter a number: \n"))
    b = float(input("Enter another number: \n"))
    sum = a + b
    print("The result is ", sum)


# Define a function
def subtracting():
    a = float(input("Enter a number: \n"))
    b = float(input("Enter another number: \n"))
    sub = a - b
    print("The result is ", sub)


# Define a function
def multiplying():
    a = float(input("Enter a number: \n"))
    b = float(input("Enter another number: \n"))
    mult = a * b
    print("The result is ", mult)


# Define a function
def dividing():
    a = float(input("Enter a number: \n"))
    b = float(input("Enter another number: \n"))
    div = a / b
    print("The result is ", div)


def detect_prime_numbers():
    number = int(input("Enter a positive integer: "))

    prime_or_comp = "prime"

    for test_number in range(2,number):

        if number % test_number == 0:
            prime_or_comp = "composite"
    print(prime_or_comp)


def prime_factors_number():
    number = int(input('Enter an integer: '))

    for test_factor in range(1, number+1):
        if number % test_factor == 0:
            print(test_factor)


def solve_for_x():

    x = symbols('x')

    eq = input('Enter equation: 0 = ')

    solution = solve(eq,x)
    for s in solution:
        print("x = ", s)

    sympy.factor(eq)


def simplify_square_root():

    n = int(input('Without the radical, enter a square root to factor: '))

    upper_limit = math.floor(math.sqrt(n)) + 1
    max_factor = 1
    other_factor = 1
    square_root = 1

    for maybe_factor in range(1, upper_limit):
        if n % (maybe_factor**2) == 0:
            max_factor = maybe_factor**2

# Divide out the greatest square factor
    other_factor = n/max_factor

# Output:
    square_root = int(math.sqrt(max_factor))
    other_factor = int(other_factor)
    output = square_root*sympy.sqrt(other_factor)
    print("The result is ", output)


def decimal_fraction_percent():
    digits = input("Enter a decimal number to convert: ")
    exponent = int(len(digits))-1
    n = float(digits)

    numerator = int(n * 10**exponent)
    denominator = 10**exponent
    percent = n * 100

# Output
    print("The decimal is ", n)
    print("The fraction is ", numerator, "/", denominator)
    print("The percent is ", percent, " %")


def fraction_decimal_percent():
    numerator = float(input("Enter a numerator number to convert: "))
    denominator = float(input("Enter a denominator number to convert: "))
    decimal = numerator / denominator
    percent = decimal * 100

# Output
    print("The fraction is ", numerator, "/", denominator)
    print("The decimal is ", decimal)
    print("The percent is ", percent, " %")


def percent_decimal_fraction():
    percent = input("Enter a percent number to convert: ")
    exponent = int(len(percent))-1
    n = float(percent)
    decimal = n / 100
    numerator = int(percent * 10**exponent)
    denominator = 10**exponent

# Output
    print("The percent is ", percent, " %")
    print("The decimal is ", n)
    print("The fraction is ", numerator, "/", denominator)


def proportions():
    # Put a zero in for the unknown value
    n1 = int(input('Enter an integer as first numerator: '))
    d1 = int(input('Enter an integer as first denominator: '))
    n2 = int(input('Enter an integer as second numerator: '))
    d2 = int(input('Enter an integer as second denominator: '))

    if n2==0:
        answer = d2 * n1 / d1
        print("n2 = ", answer)

    if d2==0:
        answer = n2 * d1 / n1
        print("d2 = ", answer)

    if n1==0:
        answer = d1 * n2 / d2
        print("n1 = ", answer)

    if d1==0:
        answer = n1 * d2 / n2
        print("d13 = ", answer)



def multi_function_calculator():
    print('Options:')
    print('1. Adding')
    print('2. Subtracting')
    print('3. Multiplying')
    print('4. Dividing')
    print('5. Detect prime numbers')
    print('6. Prime factors number')
    print('7. Solve for x')
    print('8. Simplify square root')
    print('9. Decimal fraction percent')
    print('10. Fraction decimal percent')
    print('11. Percent decimal fraction')
    print('12. Proportions')
    option = int(input('Please choose an option: '))

    if option == 1:
        print(adding())
    elif option == 2:
        print(subtracting())
    elif option == 3:
        print(multiplying())
    elif option == 4:
        print(dividing())
    elif option == 5:
        print(detect_prime_numbers())
    elif option == 6:
        print(prime_factors_number())
    elif option == 7:
        print(solve_for_x())
    elif option == 8:
        print(simplify_square_root())
    elif option == 9:
        print(decimal_fraction_percent())
    elif option == 10:
        print(fraction_decimal_percent())
    elif option == 11:
        print(percent_decimal_fraction())
    elif option == 12:
        print(proportions())

multi_function_calculator()
